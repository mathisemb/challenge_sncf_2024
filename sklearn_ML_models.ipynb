{
 "cells": [
  {
   "cell_type": "code",
   "execution_count": 1,
   "metadata": {},
   "outputs": [
    {
     "name": "stdout",
     "output_type": "stream",
     "text": [
      "cpu\n"
     ]
    }
   ],
   "source": [
    "from utils.PandasToolsFunction import *\n",
    "from utils.DataPreprocessingTools import *\n",
    "from utils.loss_functions import mean_absolute_percentage_error, mean_absolute_percentage_error_np\n",
    "\n",
    "from torch.nn.functional import mse_loss\n",
    "\n",
    "import matplotlib.pyplot as plt\n",
    "import pandas as pd\n",
    "from sklearn.model_selection import train_test_split\n",
    "from sklearn.preprocessing import MinMaxScaler\n",
    "\n",
    "import numpy as np\n",
    "import torch \n",
    "import torch.nn as nn\n",
    "import torch.optim as optim\n",
    "from torch.optim.lr_scheduler import StepLR\n",
    "\n",
    "from torch.utils.data import Dataset, DataLoader\n",
    "\n",
    "from tqdm.notebook import tqdm\n",
    "\n",
    "import json\n",
    "\n",
    "import matplotlib.pyplot as plt\n",
    "\n",
    "from sklearn.linear_model import LinearRegression\n",
    "from sklearn.ensemble import BaggingRegressor\n",
    "from sklearn.preprocessing import PolynomialFeatures\n",
    "from sklearn.ensemble import AdaBoostRegressor\n",
    "from sklearn.tree import DecisionTreeRegressor\n",
    "from sklearn.ensemble import RandomForestRegressor\n",
    "from sklearn.ensemble import GradientBoostingRegressor\n",
    "from sklearn.ensemble import GradientBoostingRegressor\n",
    "from sklearn.ensemble import StackingRegressor\n",
    "from sklearn.linear_model import RidgeCV, LassoCV\n",
    "from sklearn.neighbors import KNeighborsRegressor\n",
    "from sklearn.neural_network import MLPRegressor\n",
    "\n",
    "device = torch.device(\"cuda\" if torch.cuda.is_available() else \"cpu\")\n",
    "print(device)"
   ]
  },
  {
   "cell_type": "code",
   "execution_count": 2,
   "metadata": {},
   "outputs": [],
   "source": [
    "train_data = pd.read_csv('data/train_data_day_typed_cov_replaced_all_features.csv')\n",
    "train_data['date'] = pd.to_datetime(train_data['date'])\n",
    "train_data = date_filter(train_data, start_date='2019-12-31', end_date='2022-12-31')"
   ]
  },
  {
   "cell_type": "code",
   "execution_count": 39,
   "metadata": {},
   "outputs": [],
   "source": [
    "class LR_model():\n",
    "    def __init__(self, train_data, test_size):\n",
    "        self.train_data = train_data\n",
    "        self.stations = train_data['station'].unique()\n",
    "        self.datasets = {}\n",
    "        self.lrs = {}\n",
    "        self.features_col = ['week', 'day_numeric', 'day_type']\n",
    "\n",
    "        for station in self.stations :\n",
    "            # create datasets\n",
    "            station_indices = train_data.index[train_data['station'] == station]\n",
    "            features = train_data.loc[station_indices, self.features_col]\n",
    "            features = features.values\n",
    "            y = train_data.loc[station_indices, 'y']\n",
    "            y = np.array(y)\n",
    "            #X_normalized = self.scaler.transform(features)\n",
    "            self.datasets[station] = train_test_split(features, y, test_size=test_size, random_state= 42, shuffle=True)\n",
    "\n",
    "            # creates LR models\n",
    "            #self.lrs[station] = LinearRegression() # err: 742.88\n",
    "            #self.lrs[station] = BaggingRegressor(LinearRegression(), n_estimators=10, random_state=42) # err: 737.17\n",
    "            #self.lrs[station] = AdaBoostRegressor(LinearRegression(), n_estimators=300, random_state=42) # err: 756.77\n",
    "            self.lrs[station] = DecisionTreeRegressor() # err: 71.98\n",
    "            \n",
    "            #self.lrs[station] = RandomForestRegressor(n_estimators=10, max_depth=20) # err: 78.01\n",
    "            #self.lrs[station] = AdaBoostRegressor(DecisionTreeRegressor(max_depth=25), n_estimators=20, learning_rate=0.1, loss='linear', random_state=42) # err: 106.58\n",
    "\n",
    "            #self.lrs[station] = GradientBoostingRegressor(random_state=42) # err: 316.45\n",
    "\n",
    "            # self.lrs[station] = MLPRegressor(hidden_layer_sizes=[3, 3], random_state=42) # err: 436.56\n",
    "            # self.lrs[station] = MLPRegressor(hidden_layer_sizes=[10], random_state=42) # err: 499.51\n",
    "            #self.lrs[station] = MLPRegressor(hidden_layer_sizes=[3, 3], learning_rate = 'adaptive', learning_rate_init = 0.001, max_iter = 1000, random_state=42) # err: \n",
    "\n",
    "            \"\"\"\n",
    "            estimators = [('ridge', RidgeCV()),\n",
    "                          ('lasso', LassoCV(random_state=42)),\n",
    "                          ('knr', KNeighborsRegressor(n_neighbors=20,metric='euclidean'))]\n",
    "            final_estimator = GradientBoostingRegressor(n_estimators=25, subsample=0.5, min_samples_leaf=25, max_features=1, random_state=42)\n",
    "            self.lrs[station] = StackingRegressor(estimators=estimators, final_estimator=final_estimator)\n",
    "            \"\"\"\n",
    "            \"\"\"\n",
    "            estimators = [('lr', LinearRegression()),\n",
    "                          ('dt', DecisionTreeRegressor(max_depth=20)),\n",
    "                          ('mlp', MLPRegressor(hidden_layer_sizes=[3,3], random_state=42))]\n",
    "            final_estimator = MLPRegressor(hidden_layer_sizes=[3,3], random_state=42)\n",
    "            self.lrs[station] = StackingRegressor(estimators=estimators, final_estimator=final_estimator)\n",
    "            \"\"\"\n",
    "\n",
    "    def train(self, normalize=False, polynomial=False):\n",
    "        err = 0\n",
    "        for station in tqdm(self.stations):\n",
    "            X_train, X_test, y_train, y_test = self.datasets[station]\n",
    "\n",
    "            if polynomial:\n",
    "                poly_features = PolynomialFeatures(degree=2)\n",
    "                X_train = poly_features.fit_transform(X_train)\n",
    "                X_test = poly_features.transform(X_test)\n",
    "\n",
    "            if normalize:\n",
    "                X_train = X_train.astype(np.float64)\n",
    "                X_train[:,0] /= 52\n",
    "                X_train[:,1] /= 7\n",
    "                X_test = X_test.astype(np.float64)\n",
    "                X_test[:,0] /= 52\n",
    "                X_test[:,1] /= 7\n",
    "            \n",
    "            self.lrs[station].fit(X_train, y_train)\n",
    "\n",
    "            test_pred = self.lrs[station].predict(X_test)\n",
    "            err += mean_absolute_percentage_error_np(y_test, test_pred).item()\n",
    "        return err"
   ]
  },
  {
   "cell_type": "code",
   "execution_count": 40,
   "metadata": {},
   "outputs": [],
   "source": [
    "test_size = 0.01\n",
    "lr_model = LR_model(train_data, test_size)"
   ]
  },
  {
   "cell_type": "code",
   "execution_count": 41,
   "metadata": {},
   "outputs": [
    {
     "data": {
      "application/vnd.jupyter.widget-view+json": {
       "model_id": "47588423562f4edcafc4d97fab21ed9d",
       "version_major": 2,
       "version_minor": 0
      },
      "text/plain": [
       "  0%|          | 0/439 [00:00<?, ?it/s]"
      ]
     },
     "metadata": {},
     "output_type": "display_data"
    },
    {
     "name": "stdout",
     "output_type": "stream",
     "text": [
      "err: 87.74574892729363\n"
     ]
    }
   ],
   "source": [
    "err = lr_model.train()\n",
    "print(\"err:\", err)"
   ]
  },
  {
   "cell_type": "code",
   "execution_count": null,
   "metadata": {},
   "outputs": [],
   "source": []
  },
  {
   "cell_type": "code",
   "execution_count": null,
   "metadata": {},
   "outputs": [],
   "source": []
  },
  {
   "cell_type": "code",
   "execution_count": null,
   "metadata": {},
   "outputs": [],
   "source": []
  }
 ],
 "metadata": {
  "kernelspec": {
   "display_name": "venv",
   "language": "python",
   "name": "python3"
  },
  "language_info": {
   "codemirror_mode": {
    "name": "ipython",
    "version": 3
   },
   "file_extension": ".py",
   "mimetype": "text/x-python",
   "name": "python",
   "nbconvert_exporter": "python",
   "pygments_lexer": "ipython3",
   "version": "3.11.2"
  }
 },
 "nbformat": 4,
 "nbformat_minor": 2
}
