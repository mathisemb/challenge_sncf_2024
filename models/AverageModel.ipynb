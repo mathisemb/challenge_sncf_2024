{
 "cells": [
  {
   "cell_type": "code",
   "execution_count": 5,
   "metadata": {},
   "outputs": [],
   "source": [
    "import sys\n",
    "path_to_challenge_sncf_2024 = '/Users/gurvanrichardeau/Python_projects/LocalCodes/challenge_sncf_2024'\n",
    "sys.path.append(path_to_challenge_sncf_2024 + '/utils')\n",
    "\n",
    "from PandasToolsFunction import *\n",
    "from DataPreprocessingTools import *\n",
    "import pandas as pd\n",
    "from tqdm import tqdm\n",
    "import json"
   ]
  },
  {
   "cell_type": "code",
   "execution_count": 75,
   "metadata": {},
   "outputs": [],
   "source": [
    "class AverageModel():\n",
    "    def __init__(self, train_data: pd.DataFrame, day_types = ['job', 'ferie', 'vacances']) -> None:\n",
    "        self.train_data = train_data\n",
    "        self.day_types = day_types\n",
    "        self.station_day_type_map = {}\n",
    "\n",
    "        self.submission = None\n",
    "\n",
    "    def basic_train(self):\n",
    "        \"\"\"\n",
    "        Computes day_type and station wise averages.\n",
    "        \"\"\"\n",
    "        data = self.train_data.copy() # Ensure it does not modify original data.\n",
    "\n",
    "        for station in tqdm(data['station'].unique()):\n",
    "            station_count = 0\n",
    "            for day_type in self.day_types: # Our day types will form a partition.\n",
    "                mask = (data['station'] == station) & (data['day_type'] == day_type)\n",
    "                station_day_type_data = data[mask]\n",
    "                avg = station_day_type_data['y'].mean()\n",
    "                key = f\"{station}_{day_type}\"  \n",
    "                self.station_day_type_map[key] = avg\n",
    "\n",
    "    def train(self, mode='basic'):\n",
    "        self.station_day_type_map = {} # Reset the model.\n",
    "        if mode == 'basic':\n",
    "            self.basic_train()\n",
    "        else :\n",
    "            pass\n",
    " \n",
    "    def save(self, name = \"avg_model\"):\n",
    "        with open(\"avg_saved_models/\" + name + \".json\", 'w') as json_file:\n",
    "            json.dump(self.station_day_type_map, json_file)\n",
    "\n",
    "    def load(self, name=\"avg_model\"):\n",
    "        with open(\"avg_saved_models/\" + name + \".json\", 'r') as json_file:\n",
    "            self.station_day_type_map = json.load(json_file)\n",
    "\n",
    "    def infer(self, test_data_init: pd.DataFrame):\n",
    "        \"\"\"\n",
    "        Assume test_data has a column station and one for each day type.\n",
    "        \"\"\"\n",
    "        test_data = test_data_init.copy()\n",
    "        \n",
    "\n",
    "        for index, row in test_data.iterrows():\n",
    "            station, day_type = row['station'], row['day_type']\n",
    "            key = f\"{station}_{day_type}\"\n",
    "            test_data.at[index, 'y'] = self.station_day_type_map[key]\n",
    "\n",
    "        self.submission = test_data[['index', 'y']]\n",
    "        return test_data\n",
    "    \n",
    "    def save_submission(self, name = \"submission\"):\n",
    "        self.submission.to_csv(\"submissions/\" + name + \".csv\", index=False)    "
   ]
  },
  {
   "cell_type": "code",
   "execution_count": 80,
   "metadata": {},
   "outputs": [],
   "source": [
    "# Charger les données d'entraînement\n",
    "train_data = pd.read_csv('train_data_woCov_with_day_of_week.csv')\n",
    "#y_train_data = pd.read_csv('y_train_sncf.csv')\n",
    "\n",
    "#train_data = trainf_data\n",
    "#train_data['y'] = y_train_data['y']\n",
    "train_data = data_day_typer(train_data)\n",
    "\n",
    "test_data = pd.read_csv('test_data_day_type1.csv')\n",
    "#test_data = data_day_typer(test_data)"
   ]
  },
  {
   "cell_type": "code",
   "execution_count": 81,
   "metadata": {},
   "outputs": [],
   "source": [
    "avg_model = AverageModel(train_data)"
   ]
  },
  {
   "cell_type": "code",
   "execution_count": 82,
   "metadata": {},
   "outputs": [
    {
     "name": "stderr",
     "output_type": "stream",
     "text": [
      "100%|██████████| 439/439 [01:15<00:00,  5.81it/s]\n"
     ]
    }
   ],
   "source": [
    "avg_model.train('basic')"
   ]
  },
  {
   "cell_type": "code",
   "execution_count": 83,
   "metadata": {},
   "outputs": [],
   "source": [
    "avg_model.save('woCovid_basic_avg_model')"
   ]
  },
  {
   "cell_type": "code",
   "execution_count": 61,
   "metadata": {},
   "outputs": [],
   "source": [
    "avg_model.load()"
   ]
  },
  {
   "cell_type": "code",
   "execution_count": 84,
   "metadata": {},
   "outputs": [],
   "source": [
    "result = avg_model.infer(test_data)\n",
    "avg_model.save_submission('submission_basic_avg_woCovid')"
   ]
  }
 ],
 "metadata": {
  "kernelspec": {
   "display_name": "Python 3",
   "language": "python",
   "name": "python3"
  },
  "language_info": {
   "codemirror_mode": {
    "name": "ipython",
    "version": 3
   },
   "file_extension": ".py",
   "mimetype": "text/x-python",
   "name": "python",
   "nbconvert_exporter": "python",
   "pygments_lexer": "ipython3",
   "version": "3.11.6"
  }
 },
 "nbformat": 4,
 "nbformat_minor": 2
}
